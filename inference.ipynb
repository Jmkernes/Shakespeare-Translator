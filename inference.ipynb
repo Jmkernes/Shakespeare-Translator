{
 "cells": [
  {
   "cell_type": "markdown",
   "metadata": {},
   "source": [
    "# Inference"
   ]
  },
  {
   "cell_type": "code",
   "execution_count": 1,
   "metadata": {},
   "outputs": [],
   "source": [
    "import os\n",
    "import json\n",
    "import time\n",
    "import datetime\n",
    "import numpy as np\n",
    "import tensorflow as tf\n",
    "import tensorflow_text as tf_text\n",
    "import matplotlib.pyplot as plt\n",
    "from data_utils import DataManager, load_sentencepiece_model\n",
    "from model import Transformer\n",
    "from _inference_model import TransformerLayer\n",
    "from utils import create_masks\n",
    "\n",
    "%load_ext autoreload\n",
    "%autoreload 2"
   ]
  },
  {
   "cell_type": "markdown",
   "metadata": {},
   "source": [
    "## Load model from weights"
   ]
  },
  {
   "cell_type": "code",
   "execution_count": 2,
   "metadata": {},
   "outputs": [],
   "source": [
    "# Load model configuration\n",
    "with open('trained_models/model_config.json', 'r') as file:\n",
    "    configs = json.loads(file.read())"
   ]
  },
  {
   "cell_type": "code",
   "execution_count": 3,
   "metadata": {},
   "outputs": [
    {
     "data": {
      "text/plain": [
       "<tensorflow.python.training.tracking.util.CheckpointLoadStatus at 0x7f93dadfc610>"
      ]
     },
     "execution_count": 3,
     "metadata": {},
     "output_type": "execute_result"
    }
   ],
   "source": [
    "# Load the model from weights\n",
    "model = Transformer(**configs)\n",
    "inp = tf.random.uniform((1,4), 0, 10, tf.int32)\n",
    "_ = model(inp, inp, False, None, None, None)\n",
    "model.load_weights('trained_models/translator_weights')"
   ]
  },
  {
   "cell_type": "markdown",
   "metadata": {},
   "source": [
    "## Load tokenizers"
   ]
  },
  {
   "cell_type": "code",
   "execution_count": 6,
   "metadata": {},
   "outputs": [],
   "source": [
    "# Load the tokenizers\n",
    "inp_tokenizer = load_sentencepiece_model('tokenizers/modern2k.model', 1)\n",
    "tar_tokenizer = load_sentencepiece_model('tokenizers/original2k.model', 1)"
   ]
  },
  {
   "cell_type": "markdown",
   "metadata": {},
   "source": [
    "# Eager mode inference. \n",
    "\n",
    "You do not need to save model or use tf.function for this. The model must be loaded from weights."
   ]
  },
  {
   "cell_type": "code",
   "execution_count": 23,
   "metadata": {},
   "outputs": [],
   "source": [
    "def predict(input_sentence, inp_tokenizer, model, temp=1., max_length=100):\n",
    "    inp = tf.concat([[1], inp_tokenizer.tokenize(input_sentence), [2]], 0)[tf.newaxis, :]\n",
    "    tar = tf.constant([1], dtype=inp.dtype)[tf.newaxis, :]\n",
    "    for i in range(max_length):\n",
    "        enc_mask, comb_mask, dec_mask = create_masks(inp, tar)\n",
    "        preds, weights = model(inp, tar, training=False, enc_padding_mask=enc_mask,\n",
    "                           look_ahead_mask=comb_mask, dec_padding_mask=dec_mask)\n",
    "        next_token = tf.cast(tf.random.categorical(preds[:,-1]/temp, 1), tar.dtype)\n",
    "        if tf.reduce_all(tf.equal(next_token, 2)):\n",
    "            break\n",
    "        tar = tf.concat([tar, next_token], axis=1)\n",
    "    return tar, weights"
   ]
  },
  {
   "cell_type": "code",
   "execution_count": 232,
   "metadata": {},
   "outputs": [],
   "source": [
    "def plot_attn_weights(inp_text, tar_seq, attn_weights,\n",
    "                      inp_tokenizer, tar_tokenizer):\n",
    "    fig = plt.figure(figsize=(8, 8))\n",
    "\n",
    "    inp_seq = inp_tokenizer.tokenize(inp_text)\n",
    "    tar_seq = tf.squeeze(tar_seq, 0)\n",
    "    inp_seq = [x.numpy().decode() for x in inp_tokenizer.id_to_string(inp_seq)]\n",
    "    tar_seq = [x.numpy().decode() for x in tar_tokenizer.id_to_string(tar_seq)]\n",
    "    attn_weights = tf.squeeze(attn_weights, 0)\n",
    "    for head in range(attn_weights.shape[0]):\n",
    "        ax = fig.add_subplot(2, 2, head+1)\n",
    "        ax.matshow(attn_weights[head], cmap='viridis')\n",
    "        fontdict = {'fontsize': 14}\n",
    "        ax.set_xticks(range(len(inp_seq)+2))\n",
    "        ax.set_yticks(range(len(tar_seq)))\n",
    "        ax.set_xticklabels(['<sos>']+inp_seq+['<eos>'], fontdict=fontdict,\n",
    "                           rotation=45)\n",
    "        ax.set_yticklabels(tar_seq[1:]+['<eos>'], fontdict=fontdict)\n",
    "        ax.set_xlabel('Head {}'.format(head+1))\n",
    "\n",
    "    plt.tight_layout()\n",
    "#     plt.savefig('insult')\n",
    "    plt.show()\n"
   ]
  },
  {
   "cell_type": "code",
   "execution_count": 47,
   "metadata": {},
   "outputs": [
    {
     "name": "stdout",
     "output_type": "stream",
     "text": [
      "tf.Tensor([b'he is an wretched man.'], shape=(1,), dtype=string)\n"
     ]
    }
   ],
   "source": [
    "inp = 'where are you romeo?'\n",
    "inp = 'He is an awful person.'\n",
    "res, attn_weights = predict(inp, inp_tokenizer, model, temp=1.0, max_length=100)\n",
    "print(tar_tokenizer.detokenize(res))"
   ]
  },
  {
   "cell_type": "code",
   "execution_count": 211,
   "metadata": {},
   "outputs": [
    {
     "data": {
      "image/png": "[encoded data removed]",
      "text/plain": [
       "<Figure size 576x576 with 4 Axes>"
      ]
     },
     "metadata": {
      "needs_background": "light"
     },
     "output_type": "display_data"
    }
   ],
   "source": [
    "plot_attn_weights(inp, res, attn_weights['decoder_layer4_block2'], inp_tokenizer, tar_tokenizer)"
   ]
  },
  {
   "cell_type": "markdown",
   "metadata": {},
   "source": [
    "## Eager beam search"
   ]
  },
  {
   "cell_type": "code",
   "execution_count": 48,
   "metadata": {},
   "outputs": [],
   "source": [
    "def eager_beam_search(input_text, inp_tokenizer, model, K=5, maxlen=32):\n",
    "    x = tf.concat([[1], inp_tokenizer.tokenize(input_text), [2]], 0)\n",
    "    x = tf.repeat(x[tf.newaxis, :], K, axis=0)\n",
    "    y = tf.ones((K, 1), dtype=x.dtype)\n",
    "#     y = tf.concat([y, tf.zeros((K, MAX_LENGTH-1), dtype=inp.dtype)], 1)\n",
    "    flattened_row_ids = tf.repeat(tf.range(K), K)\n",
    "    prior = tf.constant([0.]+[-1e5]*(K-1)) # mask out the lower entries to start\n",
    "    eos_mask = tf.zeros((K,1), dtype=tf.float32)\n",
    "    new_tokens = tf.constant([[0]])\n",
    "\n",
    "    for i in range(maxlen):\n",
    "#         print(i)\n",
    "        if tf.not_equal(new_tokens[0], 2):\n",
    "            logits, _ = model(x, y, False, None, None, None)\n",
    "            log_probs = tf.nn.log_softmax(logits[:, -1, :])\n",
    "            log_probs += tf.reshape(prior, (-1,1))\n",
    "            log_probs += eos_mask\n",
    "            \n",
    "            prob_matrix, token_matrix = tf.math.top_k(log_probs, k=K)\n",
    "            prob_list = tf.reshape(prob_matrix, (1,-1) )\n",
    "            token_list = tf.reshape(token_matrix, (1,-1) )\n",
    "\n",
    "            prior, list_ids = tf.math.top_k(prob_list, k=K)\n",
    "            row_id = tf.gather(flattened_row_ids, tf.squeeze(list_ids))\n",
    "            new_tokens = tf.gather(token_list[0], list_ids[0])\n",
    "            eos_mask = -1e5*tf.reshape(\n",
    "                tf.cast(tf.equal(new_tokens, 2), tf.float32), (-1,1))\n",
    "\n",
    "            y = tf.gather(y, row_id)\n",
    "            y = tf.concat([y, new_tokens[:, tf.newaxis]], axis=1)\n",
    "#             y = tf.concat([y[:,:i+1], new_tokens[:,tf.newaxis], y[:,i+2:]], axis=1)\n",
    "        else:\n",
    "            break\n",
    "    return y, prior[0]"
   ]
  },
  {
   "cell_type": "code",
   "execution_count": 49,
   "metadata": {},
   "outputs": [
    {
     "name": "stdout",
     "output_type": "stream",
     "text": [
      "Translation: i know not, if she love me.\tProb.: -3.80\n",
      "Translation: i know not, if she be love me.\tProb.: -3.96\n",
      "Translation: i know not if she be love me.\tProb.: -5.45\n",
      "Translation: i know not, if she be love.\tProb.: -6.72\n",
      "Translation: i know not, if she love me well.\tProb.: -7.40\n"
     ]
    }
   ],
   "source": [
    "inp = 'I don\\'t know if she still love me.'\n",
    "res, probs = eager_beam_search(inp, inp_tokenizer, model)\n",
    "for sent, prob in zip(res, probs):\n",
    "    sent = tar_tokenizer.detokenize(sent).numpy().decode()\n",
    "    print(f\"Translation: {sent}\\tProb.: {prob:.2f}\")"
   ]
  },
  {
   "cell_type": "code",
   "execution_count": 54,
   "metadata": {},
   "outputs": [
    {
     "name": "stdout",
     "output_type": "stream",
     "text": [
      "Translation: he is very well.\tProb.: -5.14\n",
      "Translation: he is very well, and\tProb.: -6.39\n",
      "Translation: he is a man and mean\tProb.: -6.61\n",
      "Translation: he is a noble and mean\tProb.: -6.73\n",
      "Translation: he is very well and mean\tProb.: -6.95\n"
     ]
    }
   ],
   "source": [
    "inp = 'He is a bad and mean person.'\n",
    "res, probs = eager_beam_search(inp, inp_tokenizer, model)\n",
    "for sent, prob in zip(res, probs):\n",
    "    sent = tar_tokenizer.detokenize(sent).numpy().decode()\n",
    "    print(f\"Translation: {sent}\\tProb.: {prob:.2f}\")"
   ]
  },
  {
   "cell_type": "markdown",
   "metadata": {},
   "source": [
    "# Serving: static computational graph saving"
   ]
  },
  {
   "cell_type": "markdown",
   "metadata": {},
   "source": [
    "### Demote the Transformer model into a Transformer layer\n",
    "\n",
    "If we don't do this, it will throw errors that we are calling too many positional arguments. Models can only call one input, but layers have much more freedom.\n",
    "\n",
    "It's literally identical code to the model. We just inherit from a different class."
   ]
  },
  {
   "cell_type": "code",
   "execution_count": null,
   "metadata": {},
   "outputs": [],
   "source": [
    "from model import Encoder, Decoder\n",
    "class TransformerLayer(tf.keras.layers.Layer):\n",
    "    def __init__(self, num_layers, d_model, num_heads, d_ffn,\n",
    "                 input_vocab_size, target_vocab_size, pe_input,\n",
    "                 pe_target, p_drop=0.1):\n",
    "        super().__init__()\n",
    "        self.encoder = Encoder(num_layers, d_model, num_heads, d_ffn,\n",
    "                              input_vocab_size, pe_input, p_drop)\n",
    "        self.decoder = Decoder(num_layers, d_model, num_heads, d_ffn,\n",
    "                              target_vocab_size, pe_target, p_drop)\n",
    "        self.final_layer = tf.keras.layers.Dense(target_vocab_size)\n",
    "\n",
    "    def call(self, inp, tar, training, enc_padding_mask, look_ahead_mask,\n",
    "            dec_padding_mask):\n",
    "        enc_output = self.encoder(inp, training, enc_padding_mask)\n",
    "        dec_output, attn_weights = self.decoder(\n",
    "            tar, enc_output, training, look_ahead_mask, dec_padding_mask)\n",
    "        final_output = self.final_layer(dec_output)\n",
    "        return final_output, attn_weights"
   ]
  },
  {
   "cell_type": "markdown",
   "metadata": {},
   "source": [
    "### Load model weights into the layer"
   ]
  },
  {
   "cell_type": "code",
   "execution_count": 119,
   "metadata": {},
   "outputs": [],
   "source": [
    "layer = TransformerLayer(**configs)\n",
    "tmp = tf.random.uniform((1,4), 0, 10, tf.int32)\n",
    "layer(tmp, tmp, False, None, None, None)\n",
    "layer.set_weights(model.get_weights())"
   ]
  },
  {
   "cell_type": "markdown",
   "metadata": {},
   "source": [
    "## Base model\n",
    "\n",
    "To run the base model, we run the computation graph over the same sized inputs/outputs everytime. This means that the inputs are all padded to max length, and the target begins as  matrix (K, max length) of all zeros, with the first column all ones (for the start token).\n",
    "\n",
    "This way, the function gets the same tensors every time. It is more memory wasteful, but that's fine since the arrays are super tiny compared to the model size. It is also computationally wasteful for small translations, but will be much more efficient as the sequence length approaches max_length.\n",
    "\n",
    "The tensorshape parameters need to be hardcoded, so they are stored in global variables."
   ]
  },
  {
   "cell_type": "markdown",
   "metadata": {},
   "source": [
    "### The fit_to_length function can't be serialized (it takes variable input), but needs to be run as a preprocessing step!"
   ]
  },
  {
   "cell_type": "code",
   "execution_count": 85,
   "metadata": {},
   "outputs": [],
   "source": [
    "def add_padding(x, maxlen):\n",
    "    n = tf.maximum(maxlen-tf.size(x), 0)\n",
    "    return tf.pad(x, [(0, n)])\n",
    "\n",
    "def fit_to_length(x, maxlen):\n",
    "    x = tf.concat([[1], x, [2]], 0)\n",
    "    x = x[:maxlen]\n",
    "    x = add_padding(x, maxlen)\n",
    "    return x"
   ]
  },
  {
   "cell_type": "markdown",
   "metadata": {},
   "source": [
    "### Mask functions. these will go into the computation graph"
   ]
  },
  {
   "cell_type": "code",
   "execution_count": 68,
   "metadata": {},
   "outputs": [],
   "source": [
    "def create_padding_mask(seq):\n",
    "    seq = tf.cast(tf.math.equal(seq, 0), tf.float32)\n",
    "    return seq[:, tf.newaxis, tf.newaxis, :]  # (batch_size, 1, 1, seq_len)\n",
    "\n",
    "def create_look_ahead_mask(size):\n",
    "    mask = 1 - tf.linalg.band_part(tf.ones((size, size)), -1, 0)\n",
    "    return mask[tf.newaxis, tf.newaxis, :, :]  # (1, 1, seq_len, seq_len)\n",
    "\n",
    "def create_masks(inp, tar):\n",
    "    enc_padding_mask = create_padding_mask(inp)\n",
    "    dec_padding_mask = create_padding_mask(inp)\n",
    "    look_ahead_mask = create_look_ahead_mask(tf.shape(tar)[1])\n",
    "    dec_target_padding_mask = create_padding_mask(tar)\n",
    "    combined_mask = tf.maximum(dec_target_padding_mask, look_ahead_mask)\n",
    "    return enc_padding_mask, combined_mask, dec_padding_mask "
   ]
  },
  {
   "cell_type": "markdown",
   "metadata": {},
   "source": [
    "### Build the model\n",
    "\n",
    "Remember, hardcode length and K."
   ]
  },
  {
   "cell_type": "code",
   "execution_count": 94,
   "metadata": {},
   "outputs": [],
   "source": [
    "MAX_LENGTH = 32\n",
    "K = 5\n",
    "\n",
    "class Translator(tf.keras.Model):\n",
    "    def __init__(self, transformer, **kwargs):\n",
    "        super().__init__(**kwargs)\n",
    "        self.transformer = transformer\n",
    "\n",
    "    @tf.function(input_signature=[tf.TensorSpec(shape=(MAX_LENGTH,), dtype=tf.int32)])\n",
    "    def call(self, x):\n",
    "        x = tf.repeat(x[tf.newaxis, :], K, axis=0)\n",
    "        y = tf.ones((K, 1), dtype=x.dtype)\n",
    "        y = tf.concat([y, tf.ones((K, MAX_LENGTH-1), dtype=x.dtype)], 1)\n",
    "        flattened_row_ids = tf.repeat(tf.range(K), K)\n",
    "        prior = tf.constant([0.]+[-1e5]*(K-1)) # mask out the lower entries to start\n",
    "        eos_mask = tf.zeros((K,1), dtype=tf.float32)\n",
    "        new_tokens = tf.constant([[0]])\n",
    "\n",
    "        for i in range(MAX_LENGTH):\n",
    "            if tf.not_equal(new_tokens[0], 2):\n",
    "                logits, _ = self.transformer(x, y, False, *create_masks(x, y))\n",
    "                log_probs = tf.nn.log_softmax(logits[:, i, :])\n",
    "                log_probs += tf.reshape(prior, (-1,1))\n",
    "                log_probs += eos_mask\n",
    "\n",
    "                prob_matrix, token_matrix = tf.math.top_k(log_probs, k=K)\n",
    "                prob_list = tf.reshape(prob_matrix, (1,-1) )\n",
    "                token_list = tf.reshape(token_matrix, (1,-1) )\n",
    "\n",
    "                prior, list_ids = tf.math.top_k(prob_list, k=K)\n",
    "                row_id = tf.gather(flattened_row_ids, tf.squeeze(list_ids))\n",
    "                new_tokens = tf.gather(token_list[0], list_ids[0])\n",
    "                eos_mask = -1e5*tf.reshape(\n",
    "                    tf.cast(tf.equal(new_tokens, 2), tf.float32), (-1,1))\n",
    "\n",
    "                y = tf.gather(y, row_id)\n",
    "                y = tf.concat([y[:,:i], new_tokens[:,tf.newaxis], y[:,i+1:]], axis=1)\n",
    "            else:\n",
    "                continue\n",
    "        return y, prior[0]"
   ]
  },
  {
   "cell_type": "markdown",
   "metadata": {},
   "source": [
    "## Save the computation graph with the right weights"
   ]
  },
  {
   "cell_type": "code",
   "execution_count": 234,
   "metadata": {},
   "outputs": [],
   "source": [
    "layer = TransformerLayer(**configs)\n",
    "tmp = tf.random.uniform((1,4), 0, 10, tf.int32)\n",
    "layer(tmp, tmp, False, None, None, None)\n",
    "layer.set_weights(model.get_weights())\n",
    "\n",
    "translator = Translator(layer)\n",
    "translator.save('modelK5Len32-0001/')"
   ]
  },
  {
   "cell_type": "code",
   "execution_count": 72,
   "metadata": {},
   "outputs": [],
   "source": [
    "# signatures = {'serving_default': translator.call,\n",
    "#               'tokenized_input': translator.call.get_concrete_function(\n",
    "#                   tf.TensorSpec((MAX_LENGTH,), tf.int32))\n",
    "#              }"
   ]
  },
  {
   "cell_type": "code",
   "execution_count": 92,
   "metadata": {},
   "outputs": [],
   "source": [
    "# tf.saved_model.save(translator, 'modelK5Len32-0001', signatures=signatures)"
   ]
  },
  {
   "cell_type": "code",
   "execution_count": 74,
   "metadata": {},
   "outputs": [],
   "source": [
    "test_model = tf.saved_model.load('modelK5Len32-0001/')"
   ]
  },
  {
   "cell_type": "code",
   "execution_count": 86,
   "metadata": {},
   "outputs": [],
   "source": [
    "x = \"When in the course of human events, it becomes necessary for one people to.\"\n",
    "x = inp_tokenizer.tokenize(x)\n",
    "x = fit_to_length(x, MAX_LENGTH)\n",
    "tar_tokenizer.detokenize(test_model.call(x)[0])"
   ]
  },
  {
   "cell_type": "markdown",
   "metadata": {},
   "source": [
    "## Minimum Bayes Risk prediction\n",
    "\n",
    "Here we compute a batch of randomly sampled translations. We then use the python difflib sequence matcher to compare all pairs of sequences. We then rank candidates based on which ones are closest to the \"mean\" i.e. are most similar to all other translations.\n",
    "\n",
    "The batch prediction can easily run in graph mode, so we from the start we will pad our translations.\n",
    "\n",
    "Again, we will need to input sequences all of length MAX_LENGTH, padded or truncated if necessary."
   ]
  },
  {
   "cell_type": "code",
   "execution_count": 116,
   "metadata": {},
   "outputs": [],
   "source": [
    "def batch_random_predict(input_text, inp_tokenizer, model,\n",
    "                         temp=1.0, n_samples=16, max_length=16):\n",
    "    \n",
    "    inp = tf.concat([[1], inp_tokenizer.tokenize(input_text), [2]], 0)\n",
    "    inp = tf.repeat(inp[tf.newaxis, :], n_samples, axis=0)\n",
    "\n",
    "    tar = tf.ones((n_samples,1), dtype=inp.dtype)\n",
    "    mask = tf.ones((n_samples, 1), dtype=tf.bool) # for ended sentences\n",
    "\n",
    "    for _ in range(max_length):\n",
    "        enc_mask, comb_mask, dec_mask = create_masks(inp, tar)\n",
    "        logits, weights = model(inp, tar, training=False, \n",
    "                               enc_padding_mask=enc_mask,\n",
    "                               look_ahead_mask=comb_mask,\n",
    "                               dec_padding_mask=dec_mask)\n",
    "\n",
    "        logits = logits[:,-1,:]/tf.cast(temp, tf.float32)\n",
    "        next_tokens = tf.cast(tf.random.categorical(logits, 1), inp.dtype)\n",
    "        \n",
    "        # replace any already finished sentences with padding 4 next token\n",
    "        next_tokens = tf.where(mask, next_tokens, 0)\n",
    "        \n",
    "        # update mask. to stay true, it must:\n",
    "        # 1) already be true\n",
    "        # 2) not currently be an end of sentence token\n",
    "        mask = tf.logical_and(mask, tf.not_equal(next_tokens, 2))\n",
    "        tar = tf.concat([tar, next_tokens], axis=1)\n",
    "        if not tf.reduce_any(mask):\n",
    "            break\n",
    "    return tar, weights"
   ]
  },
  {
   "cell_type": "code",
   "execution_count": 131,
   "metadata": {},
   "outputs": [],
   "source": [
    "translations, weights = batch_random_predict('where are you romeo?', inp_tokenizer, model)"
   ]
  },
  {
   "cell_type": "code",
   "execution_count": 140,
   "metadata": {},
   "outputs": [],
   "source": [
    "from difflib import SequenceMatcher\n",
    "def sort_by_most_similar(arr):\n",
    "    \"\"\" For each row, it computes the mean similarity score with all other\n",
    "    rows and stores it in sims. Then it chooses the row with highest mean\n",
    "    and returns the array at that index.\"\"\"\n",
    "    sims = []\n",
    "    if tf.is_tensor(arr):\n",
    "        arr = arr.numpy()\n",
    "    N = arr.shape[0]\n",
    "    for i in range(N):\n",
    "        sims.append(-np.mean([SequenceMatcher(a=arr[i], b=arr[j]).ratio() \n",
    "                  for j in range(N) if j!=i]))\n",
    "    return np.argsort(sims)"
   ]
  },
  {
   "cell_type": "code",
   "execution_count": 207,
   "metadata": {},
   "outputs": [],
   "source": [
    "def minimum_bayes_risk_predict(input_text, inp_tokenizer, model,\n",
    "                         temp=1.0, n_samples=16, max_length=16):\n",
    "    translations, weights = batch_random_predict(input_text, inp_tokenizer, model,\n",
    "                                                 temp, n_samples, max_length)\n",
    "    if tf.is_tensor(translations):\n",
    "        translations = translations.numpy()\n",
    "    permuatation = sort_by_most_similar(translations)\n",
    "    translations = translations[permuatation]\n",
    "    weights = {k: tf.gather(v, permuatation) for k,v in weights.items()}\n",
    "    return translations, weights"
   ]
  },
  {
   "cell_type": "markdown",
   "metadata": {},
   "source": [
    "### Shakespearian insults\n",
    "\n",
    "The most fun use of the batch prediction is to generate novel translations. Below we type in an insult, and see how it may sound in shakespearian. "
   ]
  },
  {
   "cell_type": "code",
   "execution_count": 257,
   "metadata": {},
   "outputs": [],
   "source": [
    "text = \"you are stupid and evil.\"\n",
    "translations, weights = minimum_bayes_risk_predict(\n",
    "    text, inp_tokenizer, model, n_samples=16, temp=0.9, max_length=16)"
   ]
  },
  {
   "cell_type": "code",
   "execution_count": 258,
   "metadata": {},
   "outputs": [
    {
     "data": {
      "text/plain": [
       "<tf.Tensor: shape=(16,), dtype=string, numpy=\n",
       "array([b'thou art a foolish and liaring.',\n",
       "       b'thou art a foolish and libeck.',\n",
       "       b'thou art a foolish creature, and change.',\n",
       "       b'thou art a foolish and dark.', b'thou art limine and lit.',\n",
       "       b'thou art false and liaring.',\n",
       "       b'thou art a foolish, and trasemated.',\n",
       "       b'a foolish deed, thou lip and litio.',\n",
       "       b'a proper wicked and train.',\n",
       "       b'thou art unarm lie and lity thee.',\n",
       "       b'you lies a wickedness and lifty.',\n",
       "       b'thou art lifort and unnatural in a foolishness.',\n",
       "       b'you are foolish and liar and lit and foolish.',\n",
       "       b'a foolish delential and lingally.',\n",
       "       b'you charity, and foolish and bitter.',\n",
       "       b'thou art a vileness, and thou art a wicked man.'], dtype=object)>"
      ]
     },
     "execution_count": 258,
     "metadata": {},
     "output_type": "execute_result"
    }
   ],
   "source": [
    "tar_tokenizer.detokenize(translations)"
   ]
  },
  {
   "cell_type": "code",
   "execution_count": 259,
   "metadata": {},
   "outputs": [
    {
     "name": "stdout",
     "output_type": "stream",
     "text": [
      "tf.Tensor(b'thou art false and liaring.', shape=(), dtype=string)\n"
     ]
    },
    {
     "data": {
      "image/png": "[encoded data removed]",
      "text/plain": [
       "<Figure size 576x576 with 4 Axes>"
      ]
     },
     "metadata": {
      "needs_background": "light"
     },
     "output_type": "display_data"
    }
   ],
   "source": [
    "i = 5\n",
    "print(tar_tokenizer.detokenize(translations)[i])\n",
    "plot_attn_weights(text, translations[i:i+1,:8], weights['decoder_layer4_block2'][i:i+1,:,:8],\n",
    "                 inp_tokenizer, tar_tokenizer)"
   ]
  },
  {
   "cell_type": "markdown",
   "metadata": {},
   "source": [
    "### discarded stuff\n",
    "the difflib library can't be run in graph mode. But, we can instead vectorize sequences into one hot bins, then try to find which row is closest to the mean\n",
    "\n",
    "this doesn't work that well, it tends to favor repetitive semantically nonsensical translations."
   ]
  },
  {
   "cell_type": "code",
   "execution_count": null,
   "metadata": {},
   "outputs": [],
   "source": [
    "CatEncoder = tf.keras.layers.experimental.preprocessing.CategoryEncoding(\n",
    "      max_tokens=int(tar_tokenizer.vocab_size()), output_mode=\"count\", sparse=True)\n",
    "\n",
    "@tf.function\n",
    "def similarity_ranked_indices(arr):\n",
    "    A = CatEncoder(arr)\n",
    "    B = tf.reshape(tf.sparse.reduce_sum(A, axis=0), (-1,1))\n",
    "    scores = tf.squeeze(tf.sparse.sparse_dense_matmul(A, B))\n",
    "    idxs = tf.argsort(scores, direction='DESCENDING')\n",
    "    return idxs"
   ]
  },
  {
   "cell_type": "code",
   "execution_count": null,
   "metadata": {},
   "outputs": [],
   "source": [
    "class RootDecaySchedule(tf.keras.optimizers.schedules.LearningRateSchedule):\n",
    "    def __init__(self, max_lr, warmup_steps, **kwargs):\n",
    "        super().__init__(**kwargs)\n",
    "        self.max_lr = max_lr\n",
    "        self.warmup_steps = warmup_steps\n",
    "    def __call__(self, step):\n",
    "        linear = self.max_lr*(step/self.warmup_steps)\n",
    "        decay_steps = tf.math.maximum(step-self.warmup_steps, 1e-7)\n",
    "        fall = self.max_lr*0.1**(decay_steps/5000.)\n",
    "        return tf.math.minimum(linear, fall)"
   ]
  }
 ],
 "metadata": {
  "kernelspec": {
   "display_name": "Python 3",
   "language": "python",
   "name": "python3"
  },
  "language_info": {
   "codemirror_mode": {
    "name": "ipython",
    "version": 3
   },
   "file_extension": ".py",
   "mimetype": "text/x-python",
   "name": "python",
   "nbconvert_exporter": "python",
   "pygments_lexer": "ipython3",
   "version": "3.8.3"
  }
 },
 "nbformat": 4,
 "nbformat_minor": 4
}
